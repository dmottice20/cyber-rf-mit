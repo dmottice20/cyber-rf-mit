{
 "cells": [
  {
   "cell_type": "code",
   "execution_count": 9,
   "metadata": {},
   "outputs": [],
   "source": [
    "import pandas as pd\n",
    "import seaborn as sns\n",
    "import matplotlib.pyplot as plt\n",
    "from pandas_profiling import ProfileReport"
   ]
  },
  {
   "cell_type": "markdown",
   "metadata": {},
   "source": [
    "## Exploration of Features\n",
    "\n",
    "**Purpose:** Explore all of the features via descriptive stats individually and relationally. "
   ]
  },
  {
   "cell_type": "code",
   "execution_count": 5,
   "metadata": {},
   "outputs": [],
   "source": [
    "# Import the raw data.\n",
    "data = pd.read_csv('../data/provided/Cyber-RF_Anomaly_Detector_Challenge_Dataset_TrainingSet_80.csv')\n",
    "explanations = pd.read_excel('../data/provided/Description_of_Extracted_features_Cyber-RF_Anomaloy_Detector_challenge.xlsx', engine='openpyxl')"
   ]
  },
  {
   "cell_type": "markdown",
   "metadata": {},
   "source": [
    "### Exploring Raw Features"
   ]
  },
  {
   "cell_type": "code",
   "execution_count": 7,
   "metadata": {},
   "outputs": [
    {
     "name": "stdout",
     "output_type": "stream",
     "text": [
      "(730, 53)\n"
     ]
    },
    {
     "data": {
      "text/html": [
       "<div>\n",
       "<style scoped>\n",
       "    .dataframe tbody tr th:only-of-type {\n",
       "        vertical-align: middle;\n",
       "    }\n",
       "\n",
       "    .dataframe tbody tr th {\n",
       "        vertical-align: top;\n",
       "    }\n",
       "\n",
       "    .dataframe thead th {\n",
       "        text-align: right;\n",
       "    }\n",
       "</style>\n",
       "<table border=\"1\" class=\"dataframe\">\n",
       "  <thead>\n",
       "    <tr style=\"text-align: right;\">\n",
       "      <th></th>\n",
       "      <th>Amp_min</th>\n",
       "      <th>Amp_max</th>\n",
       "      <th>Amp_var</th>\n",
       "      <th>Amp_skew</th>\n",
       "      <th>Amp_rango</th>\n",
       "      <th>Amp_Kurtosis</th>\n",
       "      <th>Amp_entropy</th>\n",
       "      <th>Phase_min</th>\n",
       "      <th>Phase_var</th>\n",
       "      <th>Phase_skew</th>\n",
       "      <th>...</th>\n",
       "      <th>numPktSent_avg</th>\n",
       "      <th>NoBytesSnt_avg</th>\n",
       "      <th>minPktSize_min</th>\n",
       "      <th>maxPktSize_max</th>\n",
       "      <th>avgPktSz_avg</th>\n",
       "      <th>pktps_avg</th>\n",
       "      <th>bytps_avg</th>\n",
       "      <th>maxIAT_max</th>\n",
       "      <th>avgIAT_avg</th>\n",
       "      <th>Class</th>\n",
       "    </tr>\n",
       "  </thead>\n",
       "  <tbody>\n",
       "    <tr>\n",
       "      <th>0</th>\n",
       "      <td>0.002581</td>\n",
       "      <td>0.690256</td>\n",
       "      <td>0.001211</td>\n",
       "      <td>15.12232</td>\n",
       "      <td>0.690256</td>\n",
       "      <td>240.0694</td>\n",
       "      <td>0.074172</td>\n",
       "      <td>0.090118</td>\n",
       "      <td>3.381202</td>\n",
       "      <td>0.038622</td>\n",
       "      <td>...</td>\n",
       "      <td>112</td>\n",
       "      <td>5615.0</td>\n",
       "      <td>17</td>\n",
       "      <td>51</td>\n",
       "      <td>50.13393</td>\n",
       "      <td>1.003314</td>\n",
       "      <td>50.30009</td>\n",
       "      <td>1.671043</td>\n",
       "      <td>0.996696</td>\n",
       "      <td>anomalous</td>\n",
       "    </tr>\n",
       "    <tr>\n",
       "      <th>1</th>\n",
       "      <td>0.003153</td>\n",
       "      <td>0.848947</td>\n",
       "      <td>0.001835</td>\n",
       "      <td>14.98176</td>\n",
       "      <td>0.848947</td>\n",
       "      <td>234.9678</td>\n",
       "      <td>0.074256</td>\n",
       "      <td>0.100556</td>\n",
       "      <td>3.374530</td>\n",
       "      <td>0.028128</td>\n",
       "      <td>...</td>\n",
       "      <td>113</td>\n",
       "      <td>5698.0</td>\n",
       "      <td>49</td>\n",
       "      <td>51</td>\n",
       "      <td>50.42478</td>\n",
       "      <td>1.012288</td>\n",
       "      <td>51.04442</td>\n",
       "      <td>1.669502</td>\n",
       "      <td>0.987861</td>\n",
       "      <td>anomalous</td>\n",
       "    </tr>\n",
       "    <tr>\n",
       "      <th>2</th>\n",
       "      <td>0.002031</td>\n",
       "      <td>0.410564</td>\n",
       "      <td>0.000674</td>\n",
       "      <td>13.88586</td>\n",
       "      <td>0.410564</td>\n",
       "      <td>194.0342</td>\n",
       "      <td>0.071829</td>\n",
       "      <td>0.094839</td>\n",
       "      <td>3.399020</td>\n",
       "      <td>0.033839</td>\n",
       "      <td>...</td>\n",
       "      <td>113</td>\n",
       "      <td>5766.0</td>\n",
       "      <td>50</td>\n",
       "      <td>52</td>\n",
       "      <td>51.02655</td>\n",
       "      <td>1.008791</td>\n",
       "      <td>51.47511</td>\n",
       "      <td>1.004366</td>\n",
       "      <td>0.991286</td>\n",
       "      <td>normal</td>\n",
       "    </tr>\n",
       "    <tr>\n",
       "      <th>3</th>\n",
       "      <td>0.003371</td>\n",
       "      <td>1.206924</td>\n",
       "      <td>0.002163</td>\n",
       "      <td>15.24407</td>\n",
       "      <td>1.206924</td>\n",
       "      <td>246.8864</td>\n",
       "      <td>0.069905</td>\n",
       "      <td>-0.083725</td>\n",
       "      <td>4.067368</td>\n",
       "      <td>0.188521</td>\n",
       "      <td>...</td>\n",
       "      <td>113</td>\n",
       "      <td>5709.0</td>\n",
       "      <td>49</td>\n",
       "      <td>51</td>\n",
       "      <td>50.52213</td>\n",
       "      <td>1.011909</td>\n",
       "      <td>51.12378</td>\n",
       "      <td>1.431243</td>\n",
       "      <td>0.988232</td>\n",
       "      <td>anomalous</td>\n",
       "    </tr>\n",
       "    <tr>\n",
       "      <th>4</th>\n",
       "      <td>0.002116</td>\n",
       "      <td>0.425429</td>\n",
       "      <td>0.000730</td>\n",
       "      <td>13.87303</td>\n",
       "      <td>0.425429</td>\n",
       "      <td>193.6966</td>\n",
       "      <td>0.072375</td>\n",
       "      <td>-0.204406</td>\n",
       "      <td>3.801740</td>\n",
       "      <td>0.313063</td>\n",
       "      <td>...</td>\n",
       "      <td>113</td>\n",
       "      <td>5766.0</td>\n",
       "      <td>50</td>\n",
       "      <td>52</td>\n",
       "      <td>51.02655</td>\n",
       "      <td>1.008784</td>\n",
       "      <td>51.47479</td>\n",
       "      <td>1.006097</td>\n",
       "      <td>0.991292</td>\n",
       "      <td>normal</td>\n",
       "    </tr>\n",
       "  </tbody>\n",
       "</table>\n",
       "<p>5 rows × 53 columns</p>\n",
       "</div>"
      ],
      "text/plain": [
       "    Amp_min   Amp_max   Amp_var  Amp_skew  Amp_rango  Amp_Kurtosis  \\\n",
       "0  0.002581  0.690256  0.001211  15.12232   0.690256      240.0694   \n",
       "1  0.003153  0.848947  0.001835  14.98176   0.848947      234.9678   \n",
       "2  0.002031  0.410564  0.000674  13.88586   0.410564      194.0342   \n",
       "3  0.003371  1.206924  0.002163  15.24407   1.206924      246.8864   \n",
       "4  0.002116  0.425429  0.000730  13.87303   0.425429      193.6966   \n",
       "\n",
       "   Amp_entropy  Phase_min  Phase_var  Phase_skew  ...  numPktSent_avg  \\\n",
       "0     0.074172   0.090118   3.381202    0.038622  ...             112   \n",
       "1     0.074256   0.100556   3.374530    0.028128  ...             113   \n",
       "2     0.071829   0.094839   3.399020    0.033839  ...             113   \n",
       "3     0.069905  -0.083725   4.067368    0.188521  ...             113   \n",
       "4     0.072375  -0.204406   3.801740    0.313063  ...             113   \n",
       "\n",
       "   NoBytesSnt_avg  minPktSize_min  maxPktSize_max  avgPktSz_avg  pktps_avg  \\\n",
       "0          5615.0              17              51      50.13393   1.003314   \n",
       "1          5698.0              49              51      50.42478   1.012288   \n",
       "2          5766.0              50              52      51.02655   1.008791   \n",
       "3          5709.0              49              51      50.52213   1.011909   \n",
       "4          5766.0              50              52      51.02655   1.008784   \n",
       "\n",
       "   bytps_avg  maxIAT_max  avgIAT_avg      Class  \n",
       "0   50.30009    1.671043    0.996696  anomalous  \n",
       "1   51.04442    1.669502    0.987861  anomalous  \n",
       "2   51.47511    1.004366    0.991286     normal  \n",
       "3   51.12378    1.431243    0.988232  anomalous  \n",
       "4   51.47479    1.006097    0.991292     normal  \n",
       "\n",
       "[5 rows x 53 columns]"
      ]
     },
     "execution_count": 7,
     "metadata": {},
     "output_type": "execute_result"
    }
   ],
   "source": [
    "print(data.shape)\n",
    "data.head()"
   ]
  },
  {
   "cell_type": "code",
   "execution_count": 15,
   "metadata": {},
   "outputs": [
    {
     "name": "stderr",
     "output_type": "stream",
     "text": [
      "Summarize dataset: 100%|██████████| 59/59 [00:00<00:00, 175.09it/s, Completed]                      \n",
      "Generate report structure: 100%|██████████| 1/1 [00:13<00:00, 13.56s/it]\n",
      "Render HTML: 100%|██████████| 1/1 [00:01<00:00,  1.17s/it]\n",
      "Export report to file: 100%|██████████| 1/1 [00:00<00:00, 41.38it/s]\n"
     ]
    }
   ],
   "source": [
    "# Create a .html of a pandas_profiling ProfileReport to use as a jump starting point.\n",
    "profile = ProfileReport(data, minimal=True, dark_mode=True)\n",
    "profile.to_file(\"reports/RawProfilerMinimalReport.html\")"
   ]
  },
  {
   "cell_type": "markdown",
   "metadata": {},
   "source": [
    "#### Summary from `reports/RawProfilerReport.html`\n",
    "- Near 50-50% split for our response variable `Class` $\\rightarrow$ No need for any class imbalance work."
   ]
  },
  {
   "cell_type": "code",
   "execution_count": 22,
   "metadata": {},
   "outputs": [
    {
     "name": "stderr",
     "output_type": "stream",
     "text": [
      "Summarize dataset: 100%|██████████| 59/59 [00:00<00:00, 130.65it/s, Completed]                      \n",
      "Generate report structure: 100%|██████████| 1/1 [00:25<00:00, 25.66s/it]\n",
      "Render HTML: 100%|██████████| 1/1 [00:02<00:00,  2.66s/it]\n",
      "Export report to file: 100%|██████████| 1/1 [00:00<00:00, 205.98it/s]\n"
     ]
    }
   ],
   "source": [
    "testProfile = ProfileReport(data, dark_mode=True, config_file='reports/config-without-overview-vars.yaml')\n",
    "testProfile.to_file('reports/TestProfile.html')"
   ]
  },
  {
   "cell_type": "code",
   "execution_count": null,
   "metadata": {},
   "outputs": [],
   "source": []
  }
 ],
 "metadata": {
  "kernelspec": {
   "display_name": "Python 3.8.13 ('venv': venv)",
   "language": "python",
   "name": "python3"
  },
  "language_info": {
   "codemirror_mode": {
    "name": "ipython",
    "version": 3
   },
   "file_extension": ".py",
   "mimetype": "text/x-python",
   "name": "python",
   "nbconvert_exporter": "python",
   "pygments_lexer": "ipython3",
   "version": "3.8.13"
  },
  "orig_nbformat": 4,
  "vscode": {
   "interpreter": {
    "hash": "67febf53824e4425eb40f2e291ff1eb2b4512761caab75bd7bcfe4b3398e3f36"
   }
  }
 },
 "nbformat": 4,
 "nbformat_minor": 2
}
